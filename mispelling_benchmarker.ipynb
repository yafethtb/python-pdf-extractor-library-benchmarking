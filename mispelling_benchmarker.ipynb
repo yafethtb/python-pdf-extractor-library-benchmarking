{
 "cells": [
  {
   "cell_type": "code",
   "execution_count": 15,
   "metadata": {},
   "outputs": [],
   "source": [
    "from textblob import TextBlob\n",
    "import string"
   ]
  },
  {
   "attachments": {},
   "cell_type": "markdown",
   "metadata": {},
   "source": [
    "# Input for benchnarking test\n",
    "\n",
    "These text files are the result of PDF extracting process using PyMuPDF and pypdf libraries.\n",
    "\n",
    "The extracted source is from [\"A History of Rome to 565 A. D\"](https://www.gutenberg.org/files/32624/32624-pdf.pdf), page 23 to 26.\n"
   ]
  },
  {
   "cell_type": "code",
   "execution_count": 16,
   "metadata": {},
   "outputs": [],
   "source": [
    "fitz = 'from_guttenberg_pymupdf.txt' # from PyMuPDF\n",
    "pypdf = 'from_guttenberg_pypdf.txt' # from pypdf"
   ]
  },
  {
   "attachments": {},
   "cell_type": "markdown",
   "metadata": {},
   "source": [
    "# Reading the inputs\n",
    "First process in benchmarking both libraries based on each library's ability to extract the text as close as the source is by reading all the text into python object."
   ]
  },
  {
   "cell_type": "code",
   "execution_count": 17,
   "metadata": {},
   "outputs": [],
   "source": [
    "with open(fitz, 'r', encoding = 'utf-8') as f:\n",
    "    fitz_text = f.read().replace('\\n', ' ')\n",
    "\n",
    "with open(pypdf, 'r', encoding = 'utf-8') as p:\n",
    "    pypdf_text = p.read().replace('\\n', ' ')"
   ]
  },
  {
   "attachments": {},
   "cell_type": "markdown",
   "metadata": {},
   "source": [
    "# Cleaning the inputs\n",
    "Second process is cleaning the inputs from any punctuations and normalize all the letters to lowercase."
   ]
  },
  {
   "cell_type": "code",
   "execution_count": 18,
   "metadata": {},
   "outputs": [
    {
     "data": {
      "text/plain": [
       "'a history of rome to 565 ad  chapter i  the geography of italy  tly ribbed by the apennines girdled by the alps and th sea juts out ikea �long piethead� fom europe towards the northern coast of africa it includes two regions of widely differing physical characteristics dhe norther continental the southern peninsulat the peninsula is slightly larger than the continental portion together their reais about 91200 square miles  �continental italy the continental portion of kaly consist of the southem watershed ofthe alps and the northem watershed of the apennines with the intervening lowland plain drained for the most part by the river po and sts numerous tributaries on the north the alps extend in an irregular crescent of over 1200 mils rom the mediterranean to the adriatic they rise abruptly �on the italian side but their north slope is gradual with easy passes leading over the divide to the southern plain �thus they invite rather than deter immigration from central europe east and west continental italy measures around 320 miles its width from north o south does not exceed seventy miles  �the peninsula �the southern portion of kly consists of a jong narrow peninsula running northwest and southeastbetween the mediterranean and adriatic sets and terminating in two romontories which form the toe ad el of the �italian boot the length ofthe peninsula is 650 miles its breadth is nowhere   fo  4 a history of rome to 65 ad  �more than 125 miles in striking contrast to the plains of the po southern italy i traversed throughout by the parallel ridges of the apennines which give it an endless diversity of bill and valley the average height of these mountains which form a sort of vertebrate system for the peninsula apennino dorso alia dividinur livy xxx 15 is about 4000 feet and even their highest peaks 9500 feet are below the line of perpetual snow the apennine chain is highest on its eastern side where it approaches closely tothe adriatic leaving only a narrow strip of coast land intersected by numerous short mountain torrents on the west the mountains are lower and recede further from the sea leaving the wide lowland areas of etruria latium and campania on this sie too are rivers of considerable length navigable for small raf the volturnus and lris the tiber and the amo whose valleys link the coast with the highlands of the  �the coastline in comparison with gresce italy presents  striking regularity of coasline throughout its length of over 2000 miles it has remarkably few deep bays or good harbors land these few are almost all onthe southern and western shores thus the characte ofthe mediterranean cost of italy with its ferile lowlands its rivers its harbors and its general southerly aspect rendered it more inviting and accesible o approach from the sea than the eastern coast and determined its leadership in the cultural and material advancement of the peninsula climate the climate of aly as a whole like that of other mediterranean lands is characterized by high average temperature and an absence of extremes of heat or cold nevertheless it varies greatly in different localities acconding to their northern or southern situation their elevation and their proximity to the sea in the po valley there is a close approach to the continental climate of central europe with a marked difference between summer and winter temperatures and clearly �marked transitional periods of spring and attumn on the other  the geography of italy s  hand in the south of the peninsula the climate becomes more tropical with its periods of winter rain and summer drought and rapid transition between the moist and the dry seasons  �malaria hoth in antiquity and in modern times the disease from which kaly has suffered most hasbeen the dreaded malaria the explanation i to be found in the presence of extensive �marshy areas in the river valleys and along the coast the ravages of this disease have varied according as the progress of civilization has brought about the cultivation and drainage of the affected areas or its decline has wrought the undoing of this beneficial work  forests in st  ing contrast to their present baldness the slopes of the apennines were once heavily wooded and the welll fields of the po valley were also covered with tll forests timber for houses and ships was to be had in abundance and as late as the time of augustus laly was held 10 be a wellfrested country  �minerals �the mineral wealth of italy has never been very reat at anytime in antiquity the most important deposi were the iron ores ofthe islandof elba and the copper mines of etruria and liguria fora time the gold washings in the valleys of the graian alps were worked with profit  agriculture �the true wealth of italy lay i the richness of her soil which generously repaid the lor of agriculturist or hontculturst the lowland areas yielded large erops of grain of all sorts�millet maize whet oats and barley�whle legumes �were raised in abundance everywhere campania was especially fertile and is reported to have yielded three successive crops annually the vine andthe olive nourished and ther cultivation eventually became even moce profitable than the rising of grain  the valleys and mountain sides afforded excellent pastrage at all seasons and the raising of cattle and sheep ranked next in importance to agricultural pursuits among the country�s industries   6 a history of rome to 65 ad  �the islands sicily sardinia corsica the geographical location of the three arg islands sicily sardinia and corsica  inks their history closely with tha of the halian peninsula the large triangle of sicily 11290 sq mi is separated from the southwest extremity of italy by the narrow straits of rhegium tnd lies like a steppingstone between europe and africa ts situation and the richness ofits soil which caused itt become lone of the granaries of rome made it of far greater historical importance than the other two islands sardinia 9400 sq mi and corsica 3376 sq mi owing to their rugged mountainous character and their greater remoteness from the coast of hay have been always from both the economic and the cultural standpoint far behind the more favored sicily  �the historical significance of italys configuration and location the configuration of the halian peninsula long narrow and traversed by mountain ridges hindered rather than helped its political unification yet the apeanine chin running parallel to the length of the peninsula offered no such serious barriers to that unification as did the network of mountains and the long inlets that intersect the peninsula of greece and when once italy had been welded into a single state by the power of rome its central position greatly facilitated the extension of the roman dominion over the whole mediterranean basi  �the name italia the name lta is the ancient aia derived from the people known as the fal whose name had its origin inthe word viulus calf it was applied by the greeks as early 25 the fiflh century 8 to the southvesten extremity of the peninsula adjacent to the island of sicily it rapidly acquired a �much wider significance uni fom the opening ofthe second century alia ina geographical sense denoted the whole country 3s far nonh as the alps politically as we shal see the name for �long time had a much more restricted significance  '"
      ]
     },
     "execution_count": 18,
     "metadata": {},
     "output_type": "execute_result"
    }
   ],
   "source": [
    "# PyMuPDF-result clean text\n",
    "clean_fitz = fitz_text.translate(str.maketrans('', '', string.punctuation)).lower()\n",
    "clean_fitz"
   ]
  },
  {
   "cell_type": "code",
   "execution_count": 19,
   "metadata": {},
   "outputs": [
    {
     "data": {
      "text/plain": [
       "'4 a history of rome to 565 a d more than 125 miles in striking contrast to the plains of the po southern italy is traversed throughout by the parallel ridges of the apennines which give it an endless diversity of hill and valley the average height of these mountains which form a sort of vertebrate system for the peninsula  apennino dorso italia dividitur  livy xxxvi 15 is about 4000 feet and even their highest peaks 9500 feet are below the line of perpetual 4 snow the apennine chain is highest on its eastern side where it approaches closely to the adriatic leaving only a narrow strip of coast land intersected by numerous short mountain torrents on the west the mountains are lower and recede further from the sea leaving the wide lowland areas of etruria latium and campania on this side too are rivers of considerable length navigable for small craft the volturnus and liris the tiber and the arno whose valleys link the coast with the highlands of the interior the coastline in comparison with greece italy presents a striking regularity of coastline throughout its length of over 2000 miles it has remarkably few deep bays or good harbors and these few are almost all on the southern and western shores thus the character of the mediterranean coast of italy with its fertile lowlands its rivers its harbors and its general southerly aspect rendered it more inviting and accessible to approach from the sea than the eastern coast and determined its leadership in the cultural and material advancement of the peninsula climate the climate of italy as a whole like that of other mediterranean lands is characterized by a high average temperature and an absence of extremes of heat or cold nevertheless it varies greatly in different localities according to their northern or southern situation their elevation and their proximity to the sea in the po valley there is a close approach to the continental climate of central europe with a marked difference between summer and winter temperatures and clearly marked transitional periods of spring and autumn on the other the geography of italy 5 hand in the south of the peninsula the climate becomes more tropical with its periods of winter rain and summer drought and a rapid transition between the moist and the dry seasons malaria both in antiquity and in modern times the disease from which italy has suffered most has been the dreaded malaria the explanation is to be found in the presence of extensive marshy areas in the river valleys and along the coast the ravages of this disease have varied according as the progress of civilization has brought about the cultivation and drainage of the affected areas or its decline has wrought the undoing of this beneficial work forests in striking contrast to their present baldness the slopes of the apennines were once heavily wooded and the welltilled fields of the po valley were also covered with tall 5 forests timber for houses and ships was to be had in abundance and as late as the time of augustus italy was held to be a wellforested country minerals the mineral wealth of italy has never been very great at any time in antiquity the most important deposits were the iron ores of the island of elba and the copper mines of etruria and liguria for a time the gold washings in the valleys of the graian alps were worked with profit agriculture the true wealth of italy lay in the richness of her soil which generously repaid the labor of agriculturist or horticulturist the lowland areas yielded large crops of grain of all sorts—millet maize wheat oats and barley —while legumes were raised in abundance everywhere campania was especially fertile and is reported to have yielded three successive crops annually the vine and the olive flourished and their cultivation eventually became even more profitable than the raising of grain the valleys and mountain sides afforded excellent pasturage at all seasons and the raising of cattle and sheep ranked next in importance to agricultural pursuits among the country ’s industries 6 a history of rome to 565 a d the islands sicily sardinia corsica the geographical location of the three large islands sicily sardinia and corsica links their history closely with that of the italian peninsula the large triangle of sicily 11290 sq mi is separated from the southwest extremity of italy by the narrow straits of rhegium and lies like a steppingstone between europe and africa its situation and the richness of its soil which caused it to become one of the granaries of rome made it of far greater historical importance than the other two islands sardinia 9400 sq mi and corsica 3376 sq mi owing to their rugged mountainous character and their greater remoteness from the coast of italy have been always from both the economic and the cultural standpoint far behind the more favored sicily the historical significance of italy ’s configuration and location the configuration of the italian peninsula long narrow and traversed by mountain ridges hindered rather than helped its political unification yet the apennine chain running parallel to the length of the peninsula offered no such serious barriers to that unification as did the network of mountains and the long inlets that intersect the peninsula of greece and when once italy had been welded into a single state by the power of 6 rome its central position greatly facilitated the extension of the roman dominion over the whole mediterranean basin the name italia the name italy is the ancient italia  derived from the people known as the itali whose name had its origin in the word vitulus calf it was applied by the greeks as early as the fifth century b c to the southwestern extremity of the peninsula adjacent to the island of sicily it rapidly acquired a much wider significance until from the opening of the second century italia in a geographical sense denoted the whole country as far north as the alps politically as we shall see the name for a long time had a much more restricted significance'"
      ]
     },
     "execution_count": 19,
     "metadata": {},
     "output_type": "execute_result"
    }
   ],
   "source": [
    "# pypdf-result clean text\n",
    "clean_pypdf = pypdf_text.translate(str.maketrans('', '', string.punctuation)).lower()\n",
    "clean_pypdf"
   ]
  },
  {
   "attachments": {},
   "cell_type": "markdown",
   "metadata": {},
   "source": [
    "# Creating benchmarking function\n",
    "I make two benchmarking function.\n",
    "First function will counting how much misspelled words from the result. The second one will calculate the accuracy of the spelling in the result."
   ]
  },
  {
   "cell_type": "code",
   "execution_count": 20,
   "metadata": {},
   "outputs": [],
   "source": [
    "def mispelled_word_count(sentence):  \n",
    "  wordlist = [word for word in sentence.split(' ') if word != '']\n",
    "  \n",
    "  count = 0\n",
    "  for word in wordlist:\n",
    "    blob = TextBlob(word).correct()    \n",
    "    if word != blob:\n",
    "      count += 1\n",
    "  return count"
   ]
  },
  {
   "cell_type": "code",
   "execution_count": 21,
   "metadata": {},
   "outputs": [],
   "source": [
    "def spelling_accuracy(sentence):\n",
    "    wordlist = [word for word in sentence.split(' ') if word != '']\n",
    "    mispell = mispelled_word_count(sentence)\n",
    "    error_percentage = (mispell/(len(wordlist))) * 100\n",
    "  \n",
    "    return 100 - error_percentage"
   ]
  },
  {
   "attachments": {},
   "cell_type": "markdown",
   "metadata": {},
   "source": [
    "# Testing the extracted product\n",
    "This is where the benchmarking begins"
   ]
  },
  {
   "cell_type": "code",
   "execution_count": 22,
   "metadata": {},
   "outputs": [],
   "source": [
    "miss_fitz = mispelled_word_count(clean_fitz)\n",
    "miss_pypdf = mispelled_word_count(clean_pypdf)\n",
    "\n",
    "acc_fitz = spelling_accuracy(clean_fitz)\n",
    "acc_pypdf = spelling_accuracy(clean_pypdf)"
   ]
  },
  {
   "attachments": {},
   "cell_type": "markdown",
   "metadata": {},
   "source": [
    "# The result is ..."
   ]
  },
  {
   "cell_type": "code",
   "execution_count": 25,
   "metadata": {},
   "outputs": [
    {
     "name": "stdout",
     "output_type": "stream",
     "text": [
      "The result of PyMuPDF: 121 words misspelled, 90.16% accuracy.\n",
      "The result of pypdf: 40 word misspelled, 96.10% accuracy.\n"
     ]
    }
   ],
   "source": [
    "print(f'The result of PyMuPDF: {miss_fitz} words misspelled, {acc_fitz:.2f}% accuracy.')\n",
    "print(f'The result of pypdf: {miss_pypdf} word misspelled, {acc_pypdf:.2f}% accuracy.')"
   ]
  },
  {
   "attachments": {},
   "cell_type": "markdown",
   "metadata": {},
   "source": [
    "From the result above, the **accuracy of pypdf is higher than PyMuPDF**. This is due to how both libraries work. For pypdf, it will read any text font from the pdf file as-is. But it also means if the PDF is from scanned document, pypdf cannot extract any text from it. In another hand, PyMuPDF don't have better accuracy because it works by changing the PDF into images before then processing the images using tesseract OCR into text. But by using OCR, PyMuPDF can extract any kinds of PDF files, whether it is scanned or save-as documents."
   ]
  }
 ],
 "metadata": {
  "kernelspec": {
   "display_name": "Python 3",
   "language": "python",
   "name": "python3"
  },
  "language_info": {
   "codemirror_mode": {
    "name": "ipython",
    "version": 3
   },
   "file_extension": ".py",
   "mimetype": "text/x-python",
   "name": "python",
   "nbconvert_exporter": "python",
   "pygments_lexer": "ipython3",
   "version": "3.10.4"
  },
  "orig_nbformat": 4
 },
 "nbformat": 4,
 "nbformat_minor": 2
}
